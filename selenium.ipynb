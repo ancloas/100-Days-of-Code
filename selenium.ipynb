{
 "cells": [
  {
   "cell_type": "code",
   "execution_count": 9,
   "metadata": {},
   "outputs": [
    {
     "name": "stdout",
     "output_type": "stream",
     "text": [
      "1,488\n"
     ]
    }
   ],
   "source": [
    "from selenium  import webdriver\n",
    "from selenium.webdriver.common.by import By\n",
    "\n",
    "\n",
    "#keep chrome browser open after program finishes\n",
    "chrome_options = webdriver.ChromeOptions()\n",
    "chrome_options.add_experimental_option('detach', True)\n",
    "\n",
    "driver = webdriver.Chrome(options=chrome_options)\n",
    "\n",
    "driver.get(\"https://www.amazon.in/Motorola-a50G-Expandable-Battery-Languages/dp/B0CJHYX842/ref=pd_ci_mcx_mh_mcx_views_0?pd_rd_w=xCDC3&content-id=amzn1.sym.cd312cd6-6969-4220-8ac7-6dc7c0447352%3Aamzn1.symc.ca948091-a64d-450e-86d7-c161ca33337b&pf_rd_p=cd312cd6-6969-4220-8ac7-6dc7c0447352&pf_rd_r=241WBVY9SXBWH4DABK5S&pd_rd_wg=ZaMB2&pd_rd_r=1b8fc69c-3956-4011-b5bf-49e6e80b7c14&pd_rd_i=B0CJHYX842\")\n",
    "\n",
    "# Get price of amazon item\n",
    "\n",
    "price_whole= driver.find_element(By.CSS_SELECTOR, \".a-price-whole\").text\n",
    "\n",
    "\n",
    "print(price_whole)\n",
    "\n",
    "# close the tab \n",
    "# driver.close()\n",
    "\n",
    "# quit the program\n",
    "driver.quit()"
   ]
  },
  {
   "cell_type": "code",
   "execution_count": 10,
   "metadata": {},
   "outputs": [
    {
     "name": "stdout",
     "output_type": "stream",
     "text": [
      "Submit Website Bug\n"
     ]
    }
   ],
   "source": [
    "# getting submit button using selenium from python.org\n",
    "\n",
    "from selenium  import webdriver\n",
    "from selenium.webdriver.common.by import By\n",
    "\n",
    "\n",
    "#keep chrome browser open after program finishes\n",
    "chrome_options = webdriver.ChromeOptions()\n",
    "chrome_options.add_experimental_option('detach', True)\n",
    "\n",
    "driver = webdriver.Chrome(options=chrome_options)\n",
    "\n",
    "driver.get(\"https://www.python.org/\")\n",
    "\n",
    "# Get price of amazon item\n",
    "\n",
    "bug_link= driver.find_element(By.CSS_SELECTOR, \"#site-map > div.site-base > div > ul > li.tier-1.element-3 > a\").text\n",
    "\n",
    "print(bug_link)\n",
    "\n",
    "# close the tab \n",
    "# driver.close()\n",
    "\n",
    "# quit the program\n",
    "driver.quit()"
   ]
  },
  {
   "cell_type": "code",
   "execution_count": 12,
   "metadata": {},
   "outputs": [
    {
     "name": "stdout",
     "output_type": "stream",
     "text": [
      "https://github.com/python/pythondotorg/issues\n"
     ]
    }
   ],
   "source": [
    "# getting submit button using selenium from python.org using xpath\n",
    "\n",
    "from selenium  import webdriver\n",
    "from selenium.webdriver.common.by import By\n",
    "\n",
    "\n",
    "#keep chrome browser open after program finishes\n",
    "chrome_options = webdriver.ChromeOptions()\n",
    "chrome_options.add_experimental_option('detach', True)\n",
    "\n",
    "driver = webdriver.Chrome(options=chrome_options)\n",
    "\n",
    "driver.get(\"https://www.python.org/\")\n",
    "\n",
    "# Get price of amazon item\n",
    "\n",
    "bug_link= driver.find_element(By.XPATH, '//*[@id=\"site-map\"]/div[2]/div/ul/li[3]/a')\n",
    "\n",
    "print(bug_link.get_attribute('href'))\n",
    "\n",
    "# close the tab \n",
    "# driver.close()\n",
    "\n",
    "# quit the program\n",
    "driver.quit()"
   ]
  },
  {
   "cell_type": "code",
   "execution_count": 16,
   "metadata": {},
   "outputs": [
    {
     "name": "stdout",
     "output_type": "stream",
     "text": [
      "{0: {'2024-02-24': 'Django Girls Ho'}, 1: {'2024-02-24': 'Prague Python Pizza 2024'}, 2: {'2024-02-25': 'PyCon PH 2024'}, 3: {'2024-03-04': 'PyCon Namibia 2024'}, 4: {'2024-03-09': 'Django Girls CDO Workshop 2024'}}\n"
     ]
    }
   ],
   "source": [
    "# getting submit button using selenium from python.org using xpath\n",
    "\n",
    "from selenium  import webdriver\n",
    "from selenium.webdriver.common.by import By\n",
    "from datetime import datetime\n",
    "\n",
    "\n",
    "#keep chrome browser open after program finishes\n",
    "chrome_options = webdriver.ChromeOptions()\n",
    "chrome_options.add_experimental_option('detach', True)\n",
    "\n",
    "driver = webdriver.Chrome(options=chrome_options)\n",
    "\n",
    "driver.get(\"https://www.python.org/\")\n",
    "\n",
    "# Get price of amazon item\n",
    "\n",
    "event_list= driver.find_elements(By.CSS_SELECTOR, '#content > div > section > div.list-widgets.row > div.medium-widget.event-widget.last > div > ul > li')\n",
    "\n",
    "dict={}\n",
    "i=0\n",
    "for item in event_list:\n",
    "    dict_n={}\n",
    "    x= item.find_element(By.TAG_NAME, value='time')\n",
    "    print(x.text)\n",
    "    timestamp = datetime.fromisoformat(x.get_attribute('datetime').replace(\"Z\", \"+00:00\"))\n",
    "    short_date_format = timestamp.strftime(\"%Y-%m-%d\")\n",
    "    y= item.find_element(By.TAG_NAME, value='a').text\n",
    "    dict_n[short_date_format]=y \n",
    "    dict[i]=dict_n\n",
    "    i+=1\n",
    "\n",
    "\n",
    "\n",
    "print(dict)\n",
    "\n",
    "# close the tab \n",
    "# driver.close()\n",
    "\n",
    "# quit the program\n",
    "driver.quit()"
   ]
  },
  {
   "cell_type": "code",
   "execution_count": null,
   "metadata": {},
   "outputs": [],
   "source": []
  }
 ],
 "metadata": {
  "kernelspec": {
   "display_name": ".venv",
   "language": "python",
   "name": "python3"
  },
  "language_info": {
   "codemirror_mode": {
    "name": "ipython",
    "version": 3
   },
   "file_extension": ".py",
   "mimetype": "text/x-python",
   "name": "python",
   "nbconvert_exporter": "python",
   "pygments_lexer": "ipython3",
   "version": "3.11.7"
  }
 },
 "nbformat": 4,
 "nbformat_minor": 2
}
