{
 "cells": [
  {
   "cell_type": "code",
   "execution_count": 151,
   "metadata": {},
   "outputs": [
    {
     "data": {
      "text/plain": [
       "('I find that the harder I work, the more luck I seem to have.',\n",
       " 'Thomas Jefferson')"
      ]
     },
     "execution_count": 151,
     "metadata": {},
     "output_type": "execute_result"
    }
   ],
   "source": [
    "\n",
    "import re\n",
    "import random as rd\n",
    "string=''\n",
    "def get_new_quote():\n",
    "    global string\n",
    "    quote={}\n",
    "    with open('./quotes.txt', 'r') as file:\n",
    "        quote_pattern= r'\"\\w*\"'\n",
    "        data = file.readlines()\n",
    "        string= rd.choice(data)\n",
    "        # string='\"I was thinking one day and I realized that if I just had somebody behind me all the way to motivate me I could make a big difference. Nobody came along like that so I just became that person for myself.\" - Unknown asdf'\n",
    "        quote_pattern = r'\"(.*?)\"\\s*-\\s* (\\w+(\\s\\w+)?)'\n",
    "        # Use re.search() to find the match and extract the quote and person\n",
    "        match = re.search(quote_pattern, string)\n",
    "        if match:\n",
    "            return(match.group(1), match.group(2))  # Extract the quote\n",
    "    return ('Good Day ok', 'Anugrah Gupta')\n",
    "\n",
    "get_new_quote()"
   ]
  },
  {
   "cell_type": "code",
   "execution_count": 116,
   "metadata": {},
   "outputs": [
    {
     "name": "stdout",
     "output_type": "stream",
     "text": [
      "\"Don't wait. The time will never be just right.\" - Napoleon Hill\n",
      "\n"
     ]
    }
   ],
   "source": [
    "print(string)"
   ]
  },
  {
   "cell_type": "code",
   "execution_count": 155,
   "metadata": {},
   "outputs": [
    {
     "ename": "SyntaxError",
     "evalue": "invalid syntax (1131474467.py, line 11)",
     "output_type": "error",
     "traceback": [
      "\u001b[1;36m  Cell \u001b[1;32mIn[155], line 11\u001b[1;36m\u001b[0m\n\u001b[1;33m    \"Day\": [random.randint(1, 28) for _ in range(10)],\u001b[0m\n\u001b[1;37m         ^\u001b[0m\n\u001b[1;31mSyntaxError\u001b[0m\u001b[1;31m:\u001b[0m invalid syntax\n"
     ]
    }
   ],
   "source": [
    "import pandas as pd\n",
    "import random\n",
    "\n",
    "# Create a list of names\n",
    "names = [\"Alice\", \"Bob\", \"Charlie\", \"David\", \"Eve\", \"Frank\", \"Grace\", \"Hannah\", \"Isaac\", \"Julia\"]\n",
    "email = ['anugrahgupta.52@gmail.com', 'ancloas@gmail.com','anugrahgupta.52@gmail.com', 'ancloas@gmail.com','anugrahgupta.52@gmail.com', 'ancloas@gmail.com','anugrahgupta.52@gmail.com', 'ancloas@gmail.com','anugrahgupta.52@gmail.com', 'ancloas@gmail.com']\n",
    "# Create a dictionary to store the data\n",
    "data = {\n",
    "    \"Name\": names,\n",
    "    \"Email\": email,\n",
    "    \"Day\": [random.randint(1, 28) for _ in range(10)],\n",
    "    \"Month\": [random.randint(1, 12) for _ in range(10)]\n",
    "}\n",
    "\n",
    "# Create a DataFrame from the dictionary\n",
    "df = pd.DataFrame(data)\n",
    "\n",
    "# Write the DataFrame to a CSV file\n",
    "df.to_csv(\"data/birthdays.csv\", index=False)\n",
    "\n",
    "print(\"CSV file 'birthdays.csv' has been created.\")\n"
   ]
  },
  {
   "cell_type": "code",
   "execution_count": null,
   "metadata": {},
   "outputs": [],
   "source": []
  },
  {
   "cell_type": "code",
   "execution_count": null,
   "metadata": {},
   "outputs": [],
   "source": []
  },
  {
   "cell_type": "code",
   "execution_count": null,
   "metadata": {},
   "outputs": [],
   "source": []
  }
 ],
 "metadata": {
  "kernelspec": {
   "display_name": ".venv",
   "language": "python",
   "name": "python3"
  },
  "language_info": {
   "codemirror_mode": {
    "name": "ipython",
    "version": 3
   },
   "file_extension": ".py",
   "mimetype": "text/x-python",
   "name": "python",
   "nbconvert_exporter": "python",
   "pygments_lexer": "ipython3",
   "version": "3.11.6"
  }
 },
 "nbformat": 4,
 "nbformat_minor": 2
}
